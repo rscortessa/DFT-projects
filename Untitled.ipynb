{
 "cells": [
  {
   "cell_type": "code",
   "execution_count": 1,
   "id": "74bd6bae",
   "metadata": {},
   "outputs": [],
   "source": [
    "U=12\n",
    "R=20\n",
    "L=4.5*10**(-3)"
   ]
  },
  {
   "cell_type": "code",
   "execution_count": 2,
   "id": "00a616cb",
   "metadata": {},
   "outputs": [
    {
     "name": "stdout",
     "output_type": "stream",
     "text": [
      "0.0008100000000000001\n"
     ]
    }
   ],
   "source": [
    "print(1/2*L*(U/R)**2)"
   ]
  },
  {
   "cell_type": "code",
   "execution_count": 5,
   "id": "3c42aea1",
   "metadata": {},
   "outputs": [
    {
     "data": {
      "text/plain": [
       "15.0"
      ]
     },
     "execution_count": 5,
     "metadata": {},
     "output_type": "execute_result"
    }
   ],
   "source": [
    "    60/(4)"
   ]
  },
  {
   "cell_type": "code",
   "execution_count": 6,
   "id": "b01d974d",
   "metadata": {},
   "outputs": [
    {
     "name": "stdout",
     "output_type": "stream",
     "text": [
      "355881.2717085885\n"
     ]
    }
   ],
   "source": [
    "import numpy as np\n",
    "C=100*10**(-12)\n",
    "L=2*10**(-3)\n",
    "print(1/np.sqrt(L*C)*1/(2*np.pi))"
   ]
  },
  {
   "cell_type": "code",
   "execution_count": 9,
   "id": "f8cda45f",
   "metadata": {},
   "outputs": [
    {
     "name": "stdout",
     "output_type": "stream",
     "text": [
      "9.42477796076938\n"
     ]
    }
   ],
   "source": [
    "B=0.25\n",
    "A=5*10**(-4)\n",
    "W=2*np.pi*60\n",
    "print(A*B*W*200)"
   ]
  },
  {
   "cell_type": "code",
   "execution_count": 12,
   "id": "7d773076",
   "metadata": {},
   "outputs": [
    {
     "name": "stdout",
     "output_type": "stream",
     "text": [
      "0.3\n"
     ]
    }
   ],
   "source": [
    "v=3\n",
    "print(v/10)"
   ]
  },
  {
   "cell_type": "code",
   "execution_count": 13,
   "id": "7b76bff4",
   "metadata": {},
   "outputs": [
    {
     "name": "stdout",
     "output_type": "stream",
     "text": [
      "10.0\n"
     ]
    }
   ],
   "source": [
    "phi=0.5*0.3*2\n",
    "dT=3*10**(-2)\n",
    "print(phi/dT)"
   ]
  },
  {
   "cell_type": "code",
   "execution_count": 14,
   "id": "adaa39c9",
   "metadata": {},
   "outputs": [
    {
     "data": {
      "text/plain": [
       "18.333333333333332"
      ]
     },
     "execution_count": 14,
     "metadata": {},
     "output_type": "execute_result"
    }
   ],
   "source": [
    "110/6"
   ]
  },
  {
   "cell_type": "code",
   "execution_count": 15,
   "id": "092093ea",
   "metadata": {},
   "outputs": [
    {
     "data": {
      "text/plain": [
       "0.05454545454545454"
      ]
     },
     "execution_count": 15,
     "metadata": {},
     "output_type": "execute_result"
    }
   ],
   "source": [
    "6/110"
   ]
  },
  {
   "cell_type": "code",
   "execution_count": 19,
   "id": "be24af33",
   "metadata": {},
   "outputs": [
    {
     "data": {
      "text/plain": [
       "4.166666666666667e-08"
      ]
     },
     "execution_count": 19,
     "metadata": {},
     "output_type": "execute_result"
    }
   ],
   "source": [
    "2*100*(0.25)**2/(3*10**8)"
   ]
  },
  {
   "cell_type": "code",
   "execution_count": 21,
   "id": "d431cb1f",
   "metadata": {},
   "outputs": [
    {
     "data": {
      "text/plain": [
       "10082009.013844801"
      ]
     },
     "execution_count": 21,
     "metadata": {},
     "output_type": "execute_result"
    }
   ],
   "source": [
    "(450*2/(8.85418*10**(-12)))**(1/2)"
   ]
  },
  {
   "cell_type": "code",
   "execution_count": 22,
   "id": "ee12641d",
   "metadata": {},
   "outputs": [
    {
     "data": {
      "text/plain": [
       "8.333333333333333e-07"
      ]
     },
     "execution_count": 22,
     "metadata": {},
     "output_type": "execute_result"
    }
   ],
   "source": [
    "1/(1.2*10**(6))"
   ]
  },
  {
   "cell_type": "code",
   "execution_count": 23,
   "id": "ac28b84d",
   "metadata": {},
   "outputs": [
    {
     "data": {
      "text/plain": [
       "141.47106052612918"
      ]
     },
     "execution_count": 23,
     "metadata": {},
     "output_type": "execute_result"
    }
   ],
   "source": [
    "5*50/(100*np.pi*0.075**2)"
   ]
  },
  {
   "cell_type": "code",
   "execution_count": 24,
   "id": "0124898b",
   "metadata": {},
   "outputs": [
    {
     "data": {
      "text/plain": [
       "375.0"
      ]
     },
     "execution_count": 24,
     "metadata": {},
     "output_type": "execute_result"
    }
   ],
   "source": [
    "75**2/15"
   ]
  },
  {
   "cell_type": "code",
   "execution_count": null,
   "id": "bbb870b1",
   "metadata": {},
   "outputs": [],
   "source": []
  }
 ],
 "metadata": {
  "kernelspec": {
   "display_name": "Python 3 (ipykernel)",
   "language": "python",
   "name": "python3"
  },
  "language_info": {
   "codemirror_mode": {
    "name": "ipython",
    "version": 3
   },
   "file_extension": ".py",
   "mimetype": "text/x-python",
   "name": "python",
   "nbconvert_exporter": "python",
   "pygments_lexer": "ipython3",
   "version": "3.9.7"
  }
 },
 "nbformat": 4,
 "nbformat_minor": 5
}
